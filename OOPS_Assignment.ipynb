{
  "nbformat": 4,
  "nbformat_minor": 0,
  "metadata": {
    "colab": {
      "provenance": []
    },
    "kernelspec": {
      "name": "python3",
      "display_name": "Python 3"
    },
    "language_info": {
      "name": "python"
    }
  },
  "cells": [
    {
      "cell_type": "code",
      "execution_count": 2,
      "metadata": {
        "id": "TgO_Lt2pu0wc",
        "colab": {
          "base_uri": "https://localhost:8080/",
          "height": 127
        },
        "outputId": "c9769a67-845a-4a89-b08e-95701e3075de"
      },
      "outputs": [
        {
          "output_type": "execute_result",
          "data": {
            "text/plain": [
              "\"\\n(Ans) Object Oriented Programming system is a programming paradigm system that utilizes objects and classes to design software applications and computer programmes.\\nThere are five key concepts of Object-Oriented Programming, they are\\n\\n1) Inheritance:\\n   Inheritance allows a new class (subclass) to inherit properties and behaviors from an existing class (superclass). This mechanism promotes code reusability and\\n   establishes a hierarchical relationship between classes. Subclasses can extend or override the functionality of their superclasses, enabling developers to create\\n   more specific implementations based on general ones.\\n2) Abstraction:\\n   Abstraction focuses on hiding complex implementation details and exposing only the essential features of an object. This is achieved through abstract classes and\\n   interfaces, which define a contract for subclasses without specifying how the functionalities are implemented. Abstraction simplifies interaction with complex systems\\n   by allowing users to interact with simplified representations.\\n3) Polymorphism:\\n   Polymorphism enables objects of different classes to be treated as objects of a common superclass. It allows methods to do different things based on the object\\n   it is acting upon, providing flexibility in code. Polymorphism can be achieved through method overriding (runtime polymorphism) and method overloading\\n   (compile-time polymorphism), allowing for dynamic method resolution.\\n4) Encapsulation:\\n   Encapsulation is the bundling of data (attributes) and methods (functions) that operate on the data into a single unit, known as an object. This concept also involves\\n   restricting access to some of the object's components, which helps to prevent unauthorized access and modification. By exposing only necessary parts of an object through\\n   public methods, encapsulation promotes data integrity and security.\\n5) Association:\\n   Association represents a relationship between two or more objects, indicating how they interact with each other. This relationship can be one-to-one, one-to-many,\\n   or many-to-many. Understanding associations helps in modeling real-world relationships in software design, thus enhancing the clarity and structure of the code.\\n   \\n\""
            ],
            "application/vnd.google.colaboratory.intrinsic+json": {
              "type": "string"
            }
          },
          "metadata": {},
          "execution_count": 2
        }
      ],
      "source": [
        "# 1. What are the five key concepts of Object-Oriented Programming (OOP)?\n",
        "\n",
        "'''\n",
        "(Ans) Object Oriented Programming system is a programming paradigm system that utilizes objects and classes to design software applications and computer programmes.\n",
        "There are five key concepts of Object-Oriented Programming, they are\n",
        "\n",
        "1) Inheritance:\n",
        "   Inheritance allows a new class (subclass) to inherit properties and behaviors from an existing class (superclass). This mechanism promotes code reusability and\n",
        "   establishes a hierarchical relationship between classes. Subclasses can extend or override the functionality of their superclasses, enabling developers to create\n",
        "   more specific implementations based on general ones.\n",
        "2) Abstraction:\n",
        "   Abstraction focuses on hiding complex implementation details and exposing only the essential features of an object. This is achieved through abstract classes and\n",
        "   interfaces, which define a contract for subclasses without specifying how the functionalities are implemented. Abstraction simplifies interaction with complex systems\n",
        "   by allowing users to interact with simplified representations.\n",
        "3) Polymorphism:\n",
        "   Polymorphism enables objects of different classes to be treated as objects of a common superclass. It allows methods to do different things based on the object\n",
        "   it is acting upon, providing flexibility in code. Polymorphism can be achieved through method overriding (runtime polymorphism) and method overloading\n",
        "   (compile-time polymorphism), allowing for dynamic method resolution.\n",
        "4) Encapsulation:\n",
        "   Encapsulation is the bundling of data (attributes) and methods (functions) that operate on the data into a single unit, known as an object. This concept also involves\n",
        "   restricting access to some of the object's components, which helps to prevent unauthorized access and modification. By exposing only necessary parts of an object through\n",
        "   public methods, encapsulation promotes data integrity and security.\n",
        "5) Association:\n",
        "   Association represents a relationship between two or more objects, indicating how they interact with each other. This relationship can be one-to-one, one-to-many,\n",
        "   or many-to-many. Understanding associations helps in modeling real-world relationships in software design, thus enhancing the clarity and structure of the code.\n",
        "\n",
        "'''"
      ]
    },
    {
      "cell_type": "code",
      "source": [
        "# 2. Write a Python class for a Car with attributes for make, model, and year. Include a method to display the car's information?\n",
        "'''\n",
        "(Ans)\n",
        "class Car:\n",
        "    def __init__(self, make, model, year):\n",
        "        self.make = make\n",
        "        self.model = model\n",
        "        self.year = year\n",
        "\n",
        "    def display_info(self):\n",
        "        print(f\"Make: {self.make}\")\n",
        "        print(f\"Model: {self.model}\")\n",
        "        print(f\"Year: {self.year}\")\n",
        "\n",
        "'''"
      ],
      "metadata": {
        "colab": {
          "base_uri": "https://localhost:8080/",
          "height": 54
        },
        "id": "5X6zC18IpbVn",
        "outputId": "dc25962a-eb7d-4285-89f0-5d510483f13b"
      },
      "execution_count": 3,
      "outputs": [
        {
          "output_type": "execute_result",
          "data": {
            "text/plain": [
              "'\\n(Ans) \\nclass Car:\\n    def __init__(self, make, model, year):\\n        self.make = make\\n        self.model = model\\n        self.year = year\\n\\n    def display_info(self):\\n        print(f\"Make: {self.make}\")\\n        print(f\"Model: {self.model}\")\\n        print(f\"Year: {self.year}\")\\n\\n'"
            ],
            "application/vnd.google.colaboratory.intrinsic+json": {
              "type": "string"
            }
          },
          "metadata": {},
          "execution_count": 3
        }
      ]
    },
    {
      "cell_type": "code",
      "source": [
        "# 3. Explain the difference between instance methods and class methods. Provide an example of each.?\n",
        "\n",
        "'''\n",
        "(Ans)\n",
        "Instance Methods vs. Class Methods\n",
        "When you’re working with classes in Python, you’ll come across two main types of methods: instance methods and class methods. They serve different purposes, so let’s explore what each one is and how they differ.\n",
        "Instance Methods\n",
        "What They Are: Instance methods are the most common type of method in a class. They operate on individual instances (or objects) of that class. When you define an instance method, you include self as the first parameter. This self refers to the specific object that is calling the method, allowing you to access its attributes.\n",
        "Example:\n",
        "Imagine we have a class called Dog:\n",
        "python\n",
        "class Dog:\n",
        "    def __init__(self, name, age):\n",
        "        self.name = name\n",
        "        self.age = age\n",
        "\n",
        "    def bark(self):\n",
        "        print(f\"{self.name} says woof!\")\n",
        "\n",
        "# Creating an instance of Dog\n",
        "my_dog = Dog(\"Buddy\", 3)\n",
        "my_dog.bark()  # Output: Buddy says woof!\n",
        "\n",
        "In this example, when we call my_dog.bark(), it uses the name attribute of that specific dog instance to print out a message. Each dog can have its own name and age.\n",
        "Class Methods\n",
        "What They Are: Class methods are a bit different. They operate on the class itself rather than on individual instances. You define a class method using the @classmethod decorator and include cls as the first parameter. Here, cls refers to the class itself, not an instance.\n",
        "Example:\n",
        "Let’s extend our Dog class:\n",
        "python\n",
        "class Dog:\n",
        "    species = \"Canis lupus familiaris\"  # Class attribute\n",
        "\n",
        "    def __init__(self, name, age):\n",
        "        self.name = name\n",
        "        self.age = age\n",
        "\n",
        "    @classmethod\n",
        "    def get_species(cls):\n",
        "        return cls.species\n",
        "\n",
        "# Accessing the class method\n",
        "print(Dog.get_species())  # Output: Canis lupus familiaris\n",
        "\n",
        "In this case, when we call Dog.get_species(), it returns the species for all dogs. This method doesn’t depend on any specific dog instance; it’s related to the class as a whole.\n",
        "Key Differences\n",
        "1.Parameters: Instance methods use self, while class methods use cls.\n",
        "2.Access Level: Instance methods can access and change attributes specific to an object, while class methods deal with attributes that belong to the class itself.\n",
        "3.How You Call Them: You call instance methods on an object (like my_dog.bark()), but you call class methods directly on the class (like Dog.get_species()).\n",
        "'''"
      ],
      "metadata": {
        "colab": {
          "base_uri": "https://localhost:8080/",
          "height": 127
        },
        "id": "vsgshuMyp6Qc",
        "outputId": "226facf3-1da6-4934-b425-9b5f6ae7dedd"
      },
      "execution_count": 5,
      "outputs": [
        {
          "output_type": "execute_result",
          "data": {
            "text/plain": [
              "'\\n(Ans)\\nInstance Methods vs. Class Methods\\nWhen you’re working with classes in Python, you’ll come across two main types of methods: instance methods and class methods. They serve different purposes, so let’s explore what each one is and how they differ.\\nInstance Methods\\nWhat They Are: Instance methods are the most common type of method in a class. They operate on individual instances (or objects) of that class. When you define an instance method, you include self as the first parameter. This self refers to the specific object that is calling the method, allowing you to access its attributes.\\nExample:\\nImagine we have a class called Dog:\\npython\\nclass Dog:\\n    def __init__(self, name, age):\\n        self.name = name\\n        self.age = age\\n\\n    def bark(self):\\n        print(f\"{self.name} says woof!\")\\n\\n# Creating an instance of Dog\\nmy_dog = Dog(\"Buddy\", 3)\\nmy_dog.bark()  # Output: Buddy says woof!\\n\\nIn this example, when we call my_dog.bark(), it uses the name attribute of that specific dog instance to print out a message. Each dog can have its own name and age.\\nClass Methods\\nWhat They Are: Class methods are a bit different. They operate on the class itself rather than on individual instances. You define a class method using the @classmethod decorator and include cls as the first parameter. Here, cls refers to the class itself, not an instance.\\nExample:\\nLet’s extend our Dog class:\\npython\\nclass Dog:\\n    species = \"Canis lupus familiaris\"  # Class attribute\\n\\n    def __init__(self, name, age):\\n        self.name = name\\n        self.age = age\\n\\n    @classmethod\\n    def get_species(cls):\\n        return cls.species\\n\\n# Accessing the class method\\nprint(Dog.get_species())  # Output: Canis lupus familiaris\\n\\nIn this case, when we call Dog.get_species(), it returns the species for all dogs. This method doesn’t depend on any specific dog instance; it’s related to the class as a whole.\\nKey Differences\\n1.Parameters: Instance methods use self, while class methods use cls.\\n2.Access Level: Instance methods can access and change attributes specific to an object, while class methods deal with attributes that belong to the class itself.\\n3.How You Call Them: You call instance methods on an object (like my_dog.bark()), but you call class methods directly on the class (like Dog.get_species()).\\n'"
            ],
            "application/vnd.google.colaboratory.intrinsic+json": {
              "type": "string"
            }
          },
          "metadata": {},
          "execution_count": 5
        }
      ]
    },
    {
      "cell_type": "code",
      "source": [
        " # 4. How does Python implement method overloading? Give an example.?\n",
        "'''\n",
        "(Ans) Method Overloading is implemented in python by using variable-length arguments in a method.\n",
        "\n",
        "\n",
        "Example:\n",
        "class Calculator:\n",
        "    def add(self, a=0, b=0, c=0):\n",
        "        return a + b + c\n",
        "\n",
        "calc = Calculator()\n",
        "\n",
        "print(calc.add(10))\n",
        "print(calc.add(10, 20))\n",
        "print(calc.add(10, 20, 30))\n",
        "'''"
      ],
      "metadata": {
        "colab": {
          "base_uri": "https://localhost:8080/",
          "height": 54
        },
        "id": "DGUNN36Kqg-R",
        "outputId": "847b0823-0ecd-453f-d48d-11e21879982c"
      },
      "execution_count": 6,
      "outputs": [
        {
          "output_type": "execute_result",
          "data": {
            "text/plain": [
              "'\\n(Ans) Method Overloading is implemented in python by using variable-length arguments in a method.\\n\\n\\nExample:\\nclass Calculator:\\n   def add(self, a=0, b=0, c=0):\\n       return a + b + c\\n\\ncalc = Calculator()\\n\\nprint(calc.add(10))          \\nprint(calc.add(10, 20))      \\nprint(calc.add(10, 20, 30))  \\n'"
            ],
            "application/vnd.google.colaboratory.intrinsic+json": {
              "type": "string"
            }
          },
          "metadata": {},
          "execution_count": 6
        }
      ]
    },
    {
      "cell_type": "code",
      "source": [
        "# 5.  What are the three types of access modifiers in Python? How are they denoted?\n",
        "'''\n",
        "(Ans) there are three types of access modifiers in Python, they are\n",
        "1. Public Access Modifier (denotion: No special prefix is used.)\n",
        "2. Protected Access Modifier ( denotion: Single underscore prefix ( _ ) )\n",
        "3. Private Access Modifier ( denotion: Double underscore prefix ( __ ) )\n",
        "'''\n"
      ],
      "metadata": {
        "colab": {
          "base_uri": "https://localhost:8080/",
          "height": 54
        },
        "id": "0UCJ5yAvrm1r",
        "outputId": "5cca1f99-b7d1-492a-9dda-b6a935bea5b4"
      },
      "execution_count": 7,
      "outputs": [
        {
          "output_type": "execute_result",
          "data": {
            "text/plain": [
              "'\\n(Ans) there are three types of access modifiers in Python, they are\\n1. Public Access Modifier (denotion: No special prefix is used.)\\n2. Protected Access Modifier ( denotion: Single underscore prefix ( _ ) )\\n3. Private Access Modifier ( denotion: Double underscore prefix ( __ ) )\\n'"
            ],
            "application/vnd.google.colaboratory.intrinsic+json": {
              "type": "string"
            }
          },
          "metadata": {},
          "execution_count": 7
        }
      ]
    },
    {
      "cell_type": "code",
      "source": [
        "#6. Describe the five types of inheritance in Python. Provide a simple example of multiple inheritance?\n",
        "\n",
        "'''\n",
        "(Ans) Python supports five types of inheritance:\n",
        "1. Single Inheritance: A class inherits from only one parent class.\n",
        "  Example:\n",
        "  class Animal:\n",
        "    def speak(self):\n",
        "        print(\"Animal speaking\")\n",
        "\n",
        "  class Dog(Animal):\n",
        "      def bark(self):\n",
        "          print(\"Woof!\")\n",
        "2. Multiple Inheritance: A class inherits from multiple parent classes.\n",
        "  Example:\n",
        "  class Bird:\n",
        "      def fly(self):\n",
        "          print(\"Flying\")\n",
        "\n",
        "  class Mammal:\n",
        "      def run(self):\n",
        "          print(\"Running\")\n",
        "\n",
        "  class Bat(Bird, Mammal):\n",
        "      pass\n",
        "3. Multilevel Inheritance: A class inherits from a parent class, which in turn inherits from another parent class.\n",
        "  Example:\n",
        "  class Animal:\n",
        "      def speak(self):\n",
        "          print(\"Animal speaking\")\n",
        "\n",
        "  class Dog(Animal):\n",
        "      def bark(self):\n",
        "          print(\"Woof!\")\n",
        "4. Hierarchical Inheritance: Multiple classes inherit from a single parent class.\n",
        "  Example:\n",
        "  class Animal:\n",
        "      def speak(self):\n",
        "          print(\"Animal speaking\")\n",
        "\n",
        "  class Dog(Animal):\n",
        "      def bark(self):\n",
        "          print(\"Woof!\")\n",
        "\n",
        "  class Cat(Animal):\n",
        "      def meow(self):\n",
        "          print(\"Meow!\")\n",
        "5. Hybrid Inheritance: A combination of two or more types of inheritance.\n",
        "  Example:\n",
        "  class Animal:\n",
        "      def speak(self):\n",
        "          print(\"Animal speaking\")\n",
        "\n",
        "  class Mammal(Animal):\n",
        "      def run(self):\n",
        "          print(\"Running\")\n",
        "\n",
        "  class Bird(Animal):\n",
        "      def fly(self):\n",
        "          print(\"Flying\")\n",
        "'''"
      ],
      "metadata": {
        "colab": {
          "base_uri": "https://localhost:8080/",
          "height": 127
        },
        "id": "x4sj3rogsTW-",
        "outputId": "19df2b11-862c-4b50-a9ef-39c1d875386d"
      },
      "execution_count": 9,
      "outputs": [
        {
          "output_type": "execute_result",
          "data": {
            "text/plain": [
              "'\\n(Ans) Python supports five types of inheritance:\\n1. Single Inheritance: A class inherits from only one parent class.\\n  Example:\\n  class Animal:\\n    def speak(self):\\n        print(\"Animal speaking\")\\n\\n  class Dog(Animal):\\n      def bark(self):\\n          print(\"Woof!\")\\n2. Multiple Inheritance: A class inherits from multiple parent classes.\\n  Example:\\n  class Bird:\\n      def fly(self):\\n          print(\"Flying\")\\n\\n  class Mammal:\\n      def run(self):\\n          print(\"Running\")\\n\\n  class Bat(Bird, Mammal):\\n      pass\\n3. Multilevel Inheritance: A class inherits from a parent class, which in turn inherits from another parent class.\\n  Example:\\n  class Animal:\\n      def speak(self):\\n          print(\"Animal speaking\")\\n\\n  class Dog(Animal):\\n      def bark(self):\\n          print(\"Woof!\")\\n4. Hierarchical Inheritance: Multiple classes inherit from a single parent class.\\n  Example:\\n  class Animal:\\n      def speak(self):\\n          print(\"Animal speaking\")\\n\\n  class Dog(Animal):\\n      def bark(self):\\n          print(\"Woof!\")\\n\\n  class Cat(Animal):\\n      def meow(self):\\n          print(\"Meow!\")\\n5. Hybrid Inheritance: A combination of two or more types of inheritance.\\n  Example:\\n  class Animal:\\n      def speak(self):\\n          print(\"Animal speaking\")\\n\\n  class Mammal(Animal):\\n      def run(self):\\n          print(\"Running\")\\n\\n  class Bird(Animal):\\n      def fly(self):\\n          print(\"Flying\")\\n'"
            ],
            "application/vnd.google.colaboratory.intrinsic+json": {
              "type": "string"
            }
          },
          "metadata": {},
          "execution_count": 9
        }
      ]
    },
    {
      "cell_type": "code",
      "source": [
        "# 7. What is the Method Resolution Order (MRO) in Python? How can you retrieve it programmatically?\n",
        "'''\n",
        "(Ans)MRO defines the sequence in which Python looks for a method or attribute in a class hierarchy. When you call a method on an object,\n",
        "Python first checks the class of the object itself, then moves to its parent classes, following the order specified during inheritance.\n",
        "This process is particularly important in multiple inheritance scenarios where a class inherits from more than one base class.\n",
        "\n",
        "The MRO is determined using an algorithm known as C3 Linearization, which ensures that:\n",
        "- A class appears before its parents.\n",
        "- The order of classes is preserved as specified in the class definition.\n",
        "\n",
        "For example, if you have a class defined as class C(B, A), the MRO would be C -> B -> A.\n",
        "\n",
        "### How to Retrieve MRO Programmatically\n",
        "\n",
        "You can retrieve the MRO of a class in Python using either the __mro__ attribute or the mro() method. Both will return the same result, which is a list of classes in the order they will be searched.\n",
        "\n",
        "Example:\n",
        "\n",
        "class A:\n",
        "    def method(self):\n",
        "        print(\"Method from A\")\n",
        "\n",
        "class B(A):\n",
        "    def method(self):\n",
        "        print(\"Method from B\")\n",
        "\n",
        "class C(A):\n",
        "    def method(self):\n",
        "        print(\"Method from C\")\n",
        "\n",
        "class D(B, C):\n",
        "    pass\n",
        "\n",
        "# Retrieve MRO\n",
        "print(D.__mro__)  # Output: (<class '__main__.D'>, <class '__main__.B'>, <class '__main__.C'>, <class '__main__.A'>, <class 'object'>)\n",
        "\n",
        "# Alternatively using mro() method\n",
        "print(D.mro())    # Output: [<class '__main__.D'>, <class '__main__.B'>, <class '__main__.C'>, <class '__main__.A'>, <class 'object'>]\n",
        "\n",
        "In this example:\n",
        "- The MRO for class D is printed, showing that when you call a method on an instance of D, Python will first look in D, then B, followed by C, and finally A.\n",
        "'''\n"
      ],
      "metadata": {
        "colab": {
          "base_uri": "https://localhost:8080/",
          "height": 127
        },
        "id": "8wA6BlMVs_SL",
        "outputId": "bdb6a977-8c2b-46dc-a117-a0e128aeb6f9"
      },
      "execution_count": 10,
      "outputs": [
        {
          "output_type": "execute_result",
          "data": {
            "text/plain": [
              "'\\n(Ans)MRO defines the sequence in which Python looks for a method or attribute in a class hierarchy. When you call a method on an object,\\nPython first checks the class of the object itself, then moves to its parent classes, following the order specified during inheritance.\\nThis process is particularly important in multiple inheritance scenarios where a class inherits from more than one base class.\\n\\nThe MRO is determined using an algorithm known as C3 Linearization, which ensures that:\\n- A class appears before its parents.\\n- The order of classes is preserved as specified in the class definition.\\n\\nFor example, if you have a class defined as class C(B, A), the MRO would be C -> B -> A.\\n\\n### How to Retrieve MRO Programmatically\\n\\nYou can retrieve the MRO of a class in Python using either the __mro__ attribute or the mro() method. Both will return the same result, which is a list of classes in the order they will be searched.\\n\\nExample:\\n\\nclass A:\\n    def method(self):\\n        print(\"Method from A\")\\n\\nclass B(A):\\n    def method(self):\\n        print(\"Method from B\")\\n\\nclass C(A):\\n    def method(self):\\n        print(\"Method from C\")\\n\\nclass D(B, C):\\n    pass\\n\\n# Retrieve MRO\\nprint(D.__mro__)  # Output: (<class \\'__main__.D\\'>, <class \\'__main__.B\\'>, <class \\'__main__.C\\'>, <class \\'__main__.A\\'>, <class \\'object\\'>)\\n\\n# Alternatively using mro() method\\nprint(D.mro())    # Output: [<class \\'__main__.D\\'>, <class \\'__main__.B\\'>, <class \\'__main__.C\\'>, <class \\'__main__.A\\'>, <class \\'object\\'>]\\n\\nIn this example:\\n- The MRO for class D is printed, showing that when you call a method on an instance of D, Python will first look in D, then B, followed by C, and finally A.\\n'"
            ],
            "application/vnd.google.colaboratory.intrinsic+json": {
              "type": "string"
            }
          },
          "metadata": {},
          "execution_count": 10
        }
      ]
    },
    {
      "cell_type": "code",
      "source": [
        "# 8. Create an abstract base class `Shape` with an abstract method `area()`. Then create two subclasses `Circle` and `Rectangle` that implement the `area()` method.?\n",
        "'''\n",
        "(Ans)\n",
        "from abc import ABC, abstractmethod\n",
        "import math\n",
        "\n",
        "class Shape(ABC):\n",
        "    @abstractmethod\n",
        "    def area(self):\n",
        "        pass\n",
        "\n",
        "class Circle(Shape):\n",
        "    def __init__(self, radius):\n",
        "        self.radius = radius\n",
        "\n",
        "    def area(self):\n",
        "        return math.pi * (self.radius  2)\n",
        "\n",
        "class Rectangle(Shape):\n",
        "    def __init__(self, width, height):\n",
        "        self.width = width\n",
        "        self.height = height\n",
        "\n",
        "    def area(self):\n",
        "        return self.width * self.height\n",
        "\n",
        "if __name__ == \"__main__\":\n",
        "    circle = Circle(5)\n",
        "    rectangle = Rectangle(4, 6)\n",
        "\n",
        "    print(f\"Area of Circle: {circle.area():.2f}\")       # Output: Area of Circle: 78.54\n",
        "    print(f\"Area of Rectangle: {rectangle.area():.2f}\") # Output: Area of Rectangle: 24.00\n",
        "'''"
      ],
      "metadata": {
        "colab": {
          "base_uri": "https://localhost:8080/",
          "height": 126
        },
        "id": "QrCQmJ5ouP7Y",
        "outputId": "fe126caf-c950-4de2-ecea-8dc0ee0b537f"
      },
      "execution_count": 1,
      "outputs": [
        {
          "output_type": "execute_result",
          "data": {
            "text/plain": [
              "'\\n(Ans)\\nfrom abc import ABC, abstractmethod\\nimport math\\n\\nclass Shape(ABC):\\n    @abstractmethod\\n    def area(self):\\n        pass\\n\\n# Step 2: Create the Circle subclass\\nclass Circle(Shape):\\n    def __init__(self, radius):\\n        self.radius = radius\\n\\n    def area(self):\\n        return math.pi * (self.radius ** 2)\\n\\n# Step 3: Create the Rectangle subclass\\nclass Rectangle(Shape):\\n    def __init__(self, width, height):\\n        self.width = width\\n        self.height = height\\n\\n    def area(self):\\n        return self.width * self.height\\n\\n# Example usage:\\nif __name__ == \"__main__\":\\n    # Create instances of Circle and Rectangle\\n    circle = Circle(5)\\n    rectangle = Rectangle(4, 6)\\n\\n    # Print areas\\n    print(f\"Area of Circle: {circle.area():.2f}\")       # Output: Area of Circle: 78.54\\n    print(f\"Area of Rectangle: {rectangle.area():.2f}\") # Output: Area of Rectangle: 24.00\\n'"
            ],
            "application/vnd.google.colaboratory.intrinsic+json": {
              "type": "string"
            }
          },
          "metadata": {},
          "execution_count": 1
        }
      ]
    },
    {
      "cell_type": "code",
      "source": [
        "# 9.  Demonstrate polymorphism by creating a function that can work with different shape objects to calculate and print their areas.?\n",
        "\n",
        "'''\n",
        "(Ans)\n",
        "\n",
        "from math import pi\n",
        "class Circle:\n",
        "    def __init__(self, radius):\n",
        "        self.radius = radius\n",
        "\n",
        "    def area(self):\n",
        "        return pi * self.radius  2\n",
        "\n",
        "class Rectangle:\n",
        "    def __init__(self, width, height):\n",
        "        self.width = width\n",
        "        self.height = height\n",
        "\n",
        "    def area(self):\n",
        "        return self.width * self.height\n",
        "\n",
        "class Triangle:\n",
        "    def __init__(self, base, height):\n",
        "        self.base = base\n",
        "        self.height = height\n",
        "\n",
        "    def area(self):\n",
        "        return 0.5 * self.base * self.height\n",
        "\n",
        "def print_area(shape):\n",
        "    print(f\"The area of the {shape.__class__.__name__} is: {shape.area()}\")\n",
        "\n",
        "circle = Circle(5)\n",
        "rectangle = Rectangle(4, 6)\n",
        "triangle = Triangle(3, 7)\n",
        "\n",
        "print_area(circle)\n",
        "print_area(rectangle)\n",
        "print_area(triangle)\n",
        "'''"
      ],
      "metadata": {
        "colab": {
          "base_uri": "https://localhost:8080/",
          "height": 108
        },
        "id": "9YTE37o4wfu8",
        "outputId": "5ac0755a-01da-40ce-aab6-21bbf9fc36a1"
      },
      "execution_count": 2,
      "outputs": [
        {
          "output_type": "execute_result",
          "data": {
            "text/plain": [
              "'\\n(Ans)\\n\\nfrom math import pi\\nclass Circle:\\n    def __init__(self, radius):\\n        self.radius = radius\\n\\n    def area(self):\\n        return pi * self.radius ** 2\\n\\nclass Rectangle:\\n    def __init__(self, width, height):\\n        self.width = width\\n        self.height = height\\n\\n    def area(self):\\n        return self.width * self.height\\n\\nclass Triangle:\\n    def __init__(self, base, height):\\n        self.base = base\\n        self.height = height\\n\\n    def area(self):\\n        return 0.5 * self.base * self.height\\n\\ndef print_area(shape):\\n    print(f\"The area of the {shape.__class__.__name__} is: {shape.area()}\")\\n\\ncircle = Circle(5)\\nrectangle = Rectangle(4, 6)\\ntriangle = Triangle(3, 7)\\n\\nprint_area(circle)\\nprint_area(rectangle)\\nprint_area(triangle)\\n'"
            ],
            "application/vnd.google.colaboratory.intrinsic+json": {
              "type": "string"
            }
          },
          "metadata": {},
          "execution_count": 2
        }
      ]
    },
    {
      "cell_type": "code",
      "source": [
        "# 10. Implement encapsulation in a `BankAccount` class with private attributes for `balance` and `account_number`. Include methods for deposit, withdrawal, and balance inquiry.?\n",
        "\n",
        "'''\n",
        "class BankAccount:\n",
        "    def __init__(self, account_number, initial_balance=0):\n",
        "        self.__account_number = account_number\n",
        "        self.__balance = initial_balance\n",
        "\n",
        "    def deposit(self, amount):\n",
        "        if amount > 0:\n",
        "            self.__balance += amount\n",
        "            print(f\"Successfully deposited ${amount}.\")\n",
        "        else:\n",
        "            print(\"Deposit amount must be positive.\")\n",
        "\n",
        "    def withdraw(self, amount):\n",
        "        if 0 < amount <= self.__balance:\n",
        "            self.__balance -= amount\n",
        "            print(f\"Successfully withdrew ${amount}.\")\n",
        "        else:\n",
        "            print(\"Insufficient balance or invalid amount.\")\n",
        "\n",
        "    def get_balance(self):\n",
        "        return self.__balance\n",
        "\n",
        "    def get_account_number(self):\n",
        "        return self.__account_number\n",
        "\n",
        "account = BankAccount(\"123456789\", 500)\n",
        "\n",
        "account.deposit(200)\n",
        "account.withdraw(100)\n",
        "print(f\"Balance: ${account.get_balance()}\")\n",
        "print(f\"Account Number: {account.get_account_number()}\")\n",
        "'''"
      ],
      "metadata": {
        "colab": {
          "base_uri": "https://localhost:8080/",
          "height": 126
        },
        "id": "Wb9LogNyzump",
        "outputId": "7312f690-cb3b-4d32-b1da-f0a94a00ab61"
      },
      "execution_count": 3,
      "outputs": [
        {
          "output_type": "execute_result",
          "data": {
            "text/plain": [
              "'\\nclass BankAccount:\\n    def __init__(self, account_number, initial_balance=0):\\n        self.__account_number = account_number\\n        self.__balance = initial_balance\\n\\n    def deposit(self, amount):\\n        if amount > 0:\\n            self.__balance += amount\\n            print(f\"Successfully deposited ${amount}.\")\\n        else:\\n            print(\"Deposit amount must be positive.\")\\n\\n    def withdraw(self, amount):\\n        if 0 < amount <= self.__balance:\\n            self.__balance -= amount\\n            print(f\"Successfully withdrew ${amount}.\")\\n        else:\\n            print(\"Insufficient balance or invalid amount.\")\\n\\n    def get_balance(self):\\n        return self.__balance\\n\\n    def get_account_number(self):\\n        return self.__account_number\\n\\naccount = BankAccount(\"123456789\", 500)  \\n\\naccount.deposit(200)         \\naccount.withdraw(100)        \\nprint(f\"Balance: ${account.get_balance()}\")  \\nprint(f\"Account Number: {account.get_account_number()}\")  \\n'"
            ],
            "application/vnd.google.colaboratory.intrinsic+json": {
              "type": "string"
            }
          },
          "metadata": {},
          "execution_count": 3
        }
      ]
    },
    {
      "cell_type": "code",
      "source": [
        "# 11. Write a class that overrides the `__str__` and `__add__` magic methods. What will these methods allow you to do?\n",
        "'''\n",
        "class Book:\n",
        "    def __init__(self, title, author, pages):\n",
        "        self.title = title\n",
        "        self.author = author\n",
        "        self.pages = pages\n",
        "\n",
        "    def __str__(self):\n",
        "        return f\"'{self.title}' by {self.author}, {self.pages} pages\"\n",
        "\n",
        "    def __add__(self, other):\n",
        "        if isinstance(other, Book):\n",
        "            return self.pages + other.pages\n",
        "        raise TypeError(\"Only books can be added together.\")\n",
        "\n",
        "book1 = Book(\"The Alchemist\", \"Paulo Coelho\", 208)\n",
        "book2 = Book(\"Sapiens\", \"Yuval Noah Harari\", 498)\n",
        "\n",
        "print(book1)  # Output: 'The Alchemist' by Paulo Coelho, 208 pages\n",
        "print(book2)  # Output: 'Sapiens' by Yuval Noah Harari, 498 pages\n",
        "\n",
        "total_pages = book1 + book2  # Adds the pages of both books\n",
        "print(f\"Total pages: {total_pages}\")\n",
        "'''"
      ],
      "metadata": {
        "colab": {
          "base_uri": "https://localhost:8080/",
          "height": 108
        },
        "id": "7El70hpg0Yuy",
        "outputId": "cfcb7021-985d-4d8b-f991-f4c7eb6b7edf"
      },
      "execution_count": 4,
      "outputs": [
        {
          "output_type": "execute_result",
          "data": {
            "text/plain": [
              "'\\nclass Book:\\n    def __init__(self, title, author, pages):\\n        self.title = title\\n        self.author = author\\n        self.pages = pages\\n\\n    def __str__(self):\\n        return f\"\\'{self.title}\\' by {self.author}, {self.pages} pages\"\\n\\n    def __add__(self, other):\\n        if isinstance(other, Book):\\n            return self.pages + other.pages\\n        raise TypeError(\"Only books can be added together.\")\\n\\nbook1 = Book(\"The Alchemist\", \"Paulo Coelho\", 208)\\nbook2 = Book(\"Sapiens\", \"Yuval Noah Harari\", 498)\\n\\nprint(book1)  # Output: \\'The Alchemist\\' by Paulo Coelho, 208 pages\\nprint(book2)  # Output: \\'Sapiens\\' by Yuval Noah Harari, 498 pages\\n\\ntotal_pages = book1 + book2  # Adds the pages of both books\\nprint(f\"Total pages: {total_pages}\")\\n'"
            ],
            "application/vnd.google.colaboratory.intrinsic+json": {
              "type": "string"
            }
          },
          "metadata": {},
          "execution_count": 4
        }
      ]
    },
    {
      "cell_type": "code",
      "source": [
        "# 12. Create a decorator that measures and prints the execution time of a function.?\n",
        "'''\n",
        "(Ans)\n",
        "import time\n",
        "\n",
        "def execution_time_decorator(func):\n",
        "    def wrapper(*args, kwargs):\n",
        "        start_time = time.time()\n",
        "        result = func(*args, kwargs)\n",
        "        end_time = time.time()  # Record end time\n",
        "        execution_time = end_time - start_time\n",
        "        print(f\"Execution time of '{func.__name__}': {execution_time:.6f} seconds\")\n",
        "        return result\n",
        "    return wrapper\n",
        "\n",
        "@execution_time_decorator\n",
        "def sample_function(n):\n",
        "    total = 0\n",
        "    for i in range(n):\n",
        "        total += i\n",
        "    return total\n",
        "\n",
        "result = sample_function(1_000_000)\n",
        "print(f\"Result: {result}\")\n",
        "'''"
      ],
      "metadata": {
        "colab": {
          "base_uri": "https://localhost:8080/",
          "height": 90
        },
        "id": "kd93Oy5K07cQ",
        "outputId": "8b3f1e0f-27ae-40ce-b5ed-77a9369f6149"
      },
      "execution_count": 5,
      "outputs": [
        {
          "output_type": "execute_result",
          "data": {
            "text/plain": [
              "'\\n(Ans)\\nimport time\\n\\ndef execution_time_decorator(func):\\n    def wrapper(*args, **kwargs):\\n        start_time = time.time()  \\n        result = func(*args, **kwargs)  \\n        end_time = time.time()  # Record end time\\n        execution_time = end_time - start_time  \\n        print(f\"Execution time of \\'{func.__name__}\\': {execution_time:.6f} seconds\")\\n        return result  \\n    return wrapper\\n\\n@execution_time_decorator\\ndef sample_function(n):\\n    total = 0\\n    for i in range(n):\\n        total += i\\n    return total\\n\\nresult = sample_function(1_000_000)\\nprint(f\"Result: {result}\")\\n'"
            ],
            "application/vnd.google.colaboratory.intrinsic+json": {
              "type": "string"
            }
          },
          "metadata": {},
          "execution_count": 5
        }
      ]
    },
    {
      "cell_type": "code",
      "source": [
        "# 13.  Explain the concept of the Diamond Problem in multiple inheritance. How does Python resolve it?\n",
        "\n",
        "'''\n",
        "(Ans)\n",
        "The Diamond Problem is a common issue in multiple inheritance. It occurs when a class inherits from two or more classes that have a common base class,\n",
        "leading to ambiguity. Specifically, the issue arises when the same method or attribute exists in more than one parent class, and the child class inherits from both.\n",
        "\n",
        "The structure resembles a diamond shape, hence the name:\n",
        "        A\n",
        "       / \\\n",
        "      B   C\n",
        "       \\ /\n",
        "        D\n",
        "- Class D inherits from B and C.\n",
        "- Both B and C inherit from A.\n",
        "- If A has a method that is overridden in both B and C, and D tries to use that method, it is ambiguous whether it should use B's version or C's.\n",
        "\n",
        "How Python Resolves the Diamond Problem?\n",
        "\n",
        "Python uses a method called MRO (Method Resolution Order) to solve this problem. MRO determines the order in which classes are searched for a method. Python follows the C3 linearization algorithm, which ensures a consistent and predictable method lookup.\n",
        "\n",
        "The `super()` function also leverages MRO to ensure the correct method is called in a multiple inheritance scenario.\n",
        "Code Example:\n",
        "\n",
        "class A:\n",
        "    def greet(self):\n",
        "        print(\"Hello from A\")\n",
        "\n",
        "class B(A):\n",
        "    def greet(self):\n",
        "        print(\"Hello from B\")\n",
        "\n",
        "class C(A):\n",
        "    def greet(self):\n",
        "        print(\"Hello from C\")\n",
        "\n",
        "class D(B, C):  # Multiple inheritance\n",
        "    pass\n",
        "d = D()\n",
        "d.greet()  # Which greet() method will be called?\n",
        "print(D.mro())  # Print the MRO\n",
        "Explanation:\n",
        "\n",
        "1. Method Resolution Order (MRO):\n",
        "   - The MRO for class `D` is: `[D, B, C, A, object]`.\n",
        "   - This means that when `d.greet()` is called, Python first checks `D`. If the method isn't found, it looks in B next, followed by C and then A.\n",
        "\n",
        "2. Ambiguity Avoided:\n",
        "   - Even though both `B` and `C` override the `greet()` method, Python resolves the conflict using the MRO.\n",
        "   - It finds the `greet()` method in `B` first, so B’s version is called.\n",
        "\n",
        "3. Using `super()`:\n",
        "   - If you need to ensure cooperative behavior between multiple classes, you can use `super()` to call the next method in the MRO.\n",
        "\n",
        "   class B(A):\n",
        "       def greet(self):\n",
        "           super().greet()\n",
        "           print(\"Hello from B\")\n",
        "\n",
        "   class C(A):\n",
        "       def greet(self):\n",
        "           super().greet()\n",
        "           print(\"Hello from C\")\n",
        "\n",
        "   class D(B, C):\n",
        "       def greet(self):\n",
        "           super().greet()\n",
        "           print(\"Hello from D\")\n",
        "\n",
        "   d = D()\n",
        "   d.greet()\n",
        "\n",
        "The Diamond Problem is elegantly resolved in Python using MRO and super(). The MRO ensures that Python follows a consistent and predictable order when\n",
        "searching for methods, avoiding ambiguity.\n",
        "'''"
      ],
      "metadata": {
        "colab": {
          "base_uri": "https://localhost:8080/",
          "height": 127
        },
        "id": "lRL2ux8g1gS0",
        "outputId": "f930dbdf-43af-48a1-d39a-f5e03e0a3143"
      },
      "execution_count": 7,
      "outputs": [
        {
          "output_type": "execute_result",
          "data": {
            "text/plain": [
              "'\\n(Ans) \\nThe Diamond Problem is a common issue in multiple inheritance. It occurs when a class inherits from two or more classes that have a common base class,\\nleading to ambiguity. Specifically, the issue arises when the same method or attribute exists in more than one parent class, and the child class inherits from both.\\n\\nThe structure resembles a diamond shape, hence the name:\\n        A\\n       /       B   C\\n       \\\\ /\\n        D\\n- Class D inherits from B and C.\\n- Both B and C inherit from A.\\n- If A has a method that is overridden in both B and C, and D tries to use that method, it is ambiguous whether it should use B\\'s version or C\\'s.\\n\\nHow Python Resolves the Diamond Problem?\\n\\nPython uses a method called MRO (Method Resolution Order) to solve this problem. MRO determines the order in which classes are searched for a method. Python follows the C3 linearization algorithm, which ensures a consistent and predictable method lookup.\\n\\nThe `super()` function also leverages MRO to ensure the correct method is called in a multiple inheritance scenario.\\nCode Example:\\n\\nclass A:\\n    def greet(self):\\n        print(\"Hello from A\")\\n\\nclass B(A):\\n    def greet(self):\\n        print(\"Hello from B\")\\n\\nclass C(A):\\n    def greet(self):\\n        print(\"Hello from C\")\\n\\nclass D(B, C):  # Multiple inheritance\\n    pass\\nd = D()\\nd.greet()  # Which greet() method will be called?\\nprint(D.mro())  # Print the MRO\\nExplanation:\\n\\n1. Method Resolution Order (MRO):\\n   - The MRO for class `D` is: `[D, B, C, A, object]`. \\n   - This means that when `d.greet()` is called, Python first checks `D`. If the method isn\\'t found, it looks in B next, followed by C and then A.\\n\\n2. Ambiguity Avoided:\\n   - Even though both `B` and `C` override the `greet()` method, Python resolves the conflict using the MRO. \\n   - It finds the `greet()` method in `B` first, so B’s version is called.\\n\\n3. Using `super()`:\\n   - If you need to ensure cooperative behavior between multiple classes, you can use `super()` to call the next method in the MRO.\\n\\n   class B(A):\\n       def greet(self):\\n           super().greet()\\n           print(\"Hello from B\")\\n\\n   class C(A):\\n       def greet(self):\\n           super().greet()\\n           print(\"Hello from C\")\\n\\n   class D(B, C):\\n       def greet(self):\\n           super().greet()\\n           print(\"Hello from D\")\\n\\n   d = D()\\n   d.greet()\\n\\nThe Diamond Problem is elegantly resolved in Python using MRO and super(). The MRO ensures that Python follows a consistent and predictable order when\\nsearching for methods, avoiding ambiguity.\\n'"
            ],
            "application/vnd.google.colaboratory.intrinsic+json": {
              "type": "string"
            }
          },
          "metadata": {},
          "execution_count": 7
        }
      ]
    },
    {
      "cell_type": "code",
      "source": [
        "# 14. Write a class method that keeps track of the number of instances created from a class.?\n",
        "'''\n",
        "class MyClass:\n",
        "    instance_count = 0\n",
        "\n",
        "    def __init__(self):\n",
        "        MyClass.instance_count += 1\n",
        "\n",
        "    @classmethod\n",
        "    def get_instance_count(cls):\n",
        "        return cls.instance_count\n",
        "'''"
      ],
      "metadata": {
        "colab": {
          "base_uri": "https://localhost:8080/",
          "height": 54
        },
        "id": "NvLb-XOi2rlx",
        "outputId": "b4f77e25-d99e-4bb4-fb4d-da2fe9b9fad9"
      },
      "execution_count": 8,
      "outputs": [
        {
          "output_type": "execute_result",
          "data": {
            "text/plain": [
              "'\\nclass MyClass:\\n    instance_count = 0\\n\\n    def __init__(self):\\n        MyClass.instance_count += 1\\n\\n    @classmethod\\n    def get_instance_count(cls):\\n        return cls.instance_count\\n'"
            ],
            "application/vnd.google.colaboratory.intrinsic+json": {
              "type": "string"
            }
          },
          "metadata": {},
          "execution_count": 8
        }
      ]
    },
    {
      "cell_type": "code",
      "source": [
        "#  15. Implement a static method in a class that checks if a given year is a leap year.?\n",
        "'''\n",
        "class Year:\n",
        "    @staticmethod\n",
        "    def is_leap_year(year):\n",
        "        if (year % 4 == 0 and year % 100 != 0) or (year % 400 == 0):\n",
        "            return True\n",
        "'''"
      ],
      "metadata": {
        "colab": {
          "base_uri": "https://localhost:8080/",
          "height": 36
        },
        "id": "0-hUDWAU28-k",
        "outputId": "7038e687-6401-4ba3-b9ce-0000be26c44c"
      },
      "execution_count": 9,
      "outputs": [
        {
          "output_type": "execute_result",
          "data": {
            "text/plain": [
              "'\\nclass Year:\\n    @staticmethod\\n    def is_leap_year(year):\\n        if (year % 4 == 0 and year % 100 != 0) or (year % 400 == 0):\\n            return True\\n'"
            ],
            "application/vnd.google.colaboratory.intrinsic+json": {
              "type": "string"
            }
          },
          "metadata": {},
          "execution_count": 9
        }
      ]
    },
    {
      "cell_type": "code",
      "source": [],
      "metadata": {
        "id": "nhOLatOB3F9Q"
      },
      "execution_count": null,
      "outputs": []
    }
  ]
}